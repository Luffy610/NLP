{
 "cells": [
  {
   "cell_type": "code",
   "execution_count": 1,
   "id": "82ee0ceb-f7e2-4b1f-ba16-11fefb48643a",
   "metadata": {},
   "outputs": [],
   "source": [
    "import spacy"
   ]
  },
  {
   "cell_type": "code",
   "execution_count": 2,
   "id": "fcaf1eb4-214e-455d-abcf-286d21d30f89",
   "metadata": {},
   "outputs": [
    {
     "name": "stdout",
     "output_type": "stream",
     "text": [
      "Collecting en-core-web-lg==3.8.0\n",
      "  Downloading https://github.com/explosion/spacy-models/releases/download/en_core_web_lg-3.8.0/en_core_web_lg-3.8.0-py3-none-any.whl (400.7 MB)\n",
      "\u001b[2K     \u001b[38;2;114;156;31m━━━━━━━━━━━━━━━━━━━━━━━━━━━━━━━━━━━━━━\u001b[0m \u001b[32m400.7/400.7 MB\u001b[0m \u001b[31m11.1 MB/s\u001b[0m eta \u001b[36m0:00:00\u001b[0mm eta \u001b[36m0:00:01\u001b[0m[36m0:00:01\u001b[0m\n",
      "Installing collected packages: en-core-web-lg\n",
      "Successfully installed en-core-web-lg-3.8.0\n",
      "\u001b[38;5;2m✔ Download and installation successful\u001b[0m\n",
      "You can now load the package via spacy.load('en_core_web_lg')\n"
     ]
    }
   ],
   "source": [
    "!python -m spacy download en_core_web_lg"
   ]
  },
  {
   "cell_type": "code",
   "execution_count": 4,
   "id": "67922089-d685-4ee7-8fd9-1c359d0aca99",
   "metadata": {},
   "outputs": [
    {
     "name": "stdout",
     "output_type": "stream",
     "text": [
      "0.7252610325813293\n",
      "0.2516692280769348\n",
      "0.5618917346000671\n"
     ]
    }
   ],
   "source": [
    "# Load the English Model\n",
    "nlp = spacy.load('en_core_web_lg')\n",
    "\n",
    "#Proccess the words with model\n",
    "word1 = nlp('king')\n",
    "word2 = nlp('queen')\n",
    "word3 = nlp('apple')\n",
    "word4 = nlp('orange')\n",
    "\n",
    "#Calculate the similarities\n",
    "\n",
    "similarity1 = word1.similarity(word2)\n",
    "similarity2 = word2.similarity(word3)\n",
    "similarity3 = word3.similarity(word4)\n",
    "\n",
    "print(similarity1)\n",
    "print(similarity2)\n",
    "print(similarity3)\n"
   ]
  },
  {
   "cell_type": "code",
   "execution_count": null,
   "id": "0497ffb6-e77f-43b5-a23b-836bf12fb029",
   "metadata": {},
   "outputs": [],
   "source": []
  }
 ],
 "metadata": {
  "kernelspec": {
   "display_name": "Python 3 (ipykernel)",
   "language": "python",
   "name": "python3"
  },
  "language_info": {
   "codemirror_mode": {
    "name": "ipython",
    "version": 3
   },
   "file_extension": ".py",
   "mimetype": "text/x-python",
   "name": "python",
   "nbconvert_exporter": "python",
   "pygments_lexer": "ipython3",
   "version": "3.12.7"
  }
 },
 "nbformat": 4,
 "nbformat_minor": 5
}
